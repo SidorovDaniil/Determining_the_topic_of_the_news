{
 "cells": [
  {
   "cell_type": "code",
   "execution_count": 18,
   "id": "af3d73fe",
   "metadata": {},
   "outputs": [
    {
     "name": "stderr",
     "output_type": "stream",
     "text": [
      "[nltk_data] Downloading package stopwords to\n",
      "[nltk_data]     C:\\Users\\svden\\AppData\\Roaming\\nltk_data...\n",
      "[nltk_data]   Package stopwords is already up-to-date!\n"
     ]
    },
    {
     "data": {
      "text/html": [
       "        <script type=\"text/javascript\">\n",
       "        window.PlotlyConfig = {MathJaxConfig: 'local'};\n",
       "        if (window.MathJax && window.MathJax.Hub && window.MathJax.Hub.Config) {window.MathJax.Hub.Config({SVG: {font: \"STIX-Web\"}});}\n",
       "        if (typeof require !== 'undefined') {\n",
       "        require.undef(\"plotly\");\n",
       "        requirejs.config({\n",
       "            paths: {\n",
       "                'plotly': ['https://cdn.plot.ly/plotly-2.24.1.min']\n",
       "            }\n",
       "        });\n",
       "        require(['plotly'], function(Plotly) {\n",
       "            window._Plotly = Plotly;\n",
       "        });\n",
       "        }\n",
       "        </script>\n",
       "        "
      ]
     },
     "metadata": {},
     "output_type": "display_data"
    }
   ],
   "source": [
    "import pandas as pd\n",
    "import numpy as np\n",
    "import seaborn as sns\n",
    "sns.set()\n",
    "\n",
    "from collections import defaultdict\n",
    "from sklearn.feature_extraction.text import TfidfVectorizer\n",
    "from sklearn.model_selection import train_test_split\n",
    "from sklearn.linear_model import LogisticRegression\n",
    "from sklearn.pipeline import Pipeline\n",
    "from sklearn.metrics import classification_report\n",
    "from sklearn.naive_bayes import MultinomialNB\n",
    "from sklearn.svm import SVC\n",
    "\n",
    "import gensim.downloader\n",
    "from gensim.models import Word2Vec, KeyedVectors\n",
    "from natasha import Doc, Segmenter, MorphVocab, NewsEmbedding, NewsMorphTagger\n",
    "\n",
    "import mlxtend\n",
    "from mlxtend.evaluate import paired_ttest_kfold_cv\n",
    "\n",
    "import nltk\n",
    "from nltk.corpus import stopwords\n",
    "nltk.download(\"stopwords\")\n",
    "\n",
    "import matplotlib.pyplot as plt\n",
    "\n",
    "from plotly.offline import iplot\n",
    "import cufflinks as cf\n",
    "cf.go_offline()\n",
    "cf.set_config_file(offline=False, world_readable=True)"
   ]
  },
  {
   "cell_type": "code",
   "execution_count": 2,
   "id": "d2df9eea",
   "metadata": {},
   "outputs": [],
   "source": [
    "RND_STATE = 73"
   ]
  },
  {
   "cell_type": "markdown",
   "id": "0863acde",
   "metadata": {},
   "source": [
    "# Предобработка текста\n",
    "Чтобы получить более точное и компактное представление текстов, обычно делают нормализацию текста, которая включает в себя следующие этапы:\n",
    "- lowering\n",
    "- tokenize\n",
    "- lemmatize\n",
    "- remove symbols\n",
    "- remove stop-words\n",
    "\n",
    "Для нас совершенно не важен регистр текста, его род и падеж, а также различные символы, которые и вовсе текстом не являются.\n",
    "\n",
    "Таким образом, мы ожидаем, что после предобработки текста качество модели должно возрасти.\n",
    "\n",
    "Существуют разные библиотеки для обработки текста, мы будем использовать Наташу, потому что она включяет в себя все необходимые нам элементы предобработки (токенизация и лемматизация), а также демонстрирует сравнительно хорошее качество при работе с русским языком."
   ]
  },
  {
   "cell_type": "code",
   "execution_count": 3,
   "id": "8ce7cdd8",
   "metadata": {},
   "outputs": [],
   "source": [
    "segmenter = Segmenter()\n",
    "morph_vocab = MorphVocab()\n",
    "emb = NewsEmbedding()\n",
    "morph_target = NewsMorphTagger(emb)"
   ]
  },
  {
   "cell_type": "markdown",
   "id": "480ab4ca",
   "metadata": {},
   "source": [
    "Напишем функцию, которая будет осуществлять всю указанную выше предобработку текста."
   ]
  },
  {
   "cell_type": "code",
   "execution_count": 4,
   "id": "535830b9",
   "metadata": {},
   "outputs": [],
   "source": [
    "def text_prep(text) -> str:\n",
    "    doc = Doc(text)\n",
    "    doc.segment(segmenter)\n",
    "    doc.tag_morph(morph_target)\n",
    "    \n",
    "    for token in doc.tokens:\n",
    "        token.lemmatize(morph_vocab)\n",
    "        \n",
    "    lemmas = [_.lemma for _ in doc.tokens]\n",
    "    words = [lemma for lemma in lemmas if lemma.isalpha() and len(lemma) > 2]\n",
    "    filtered_words = [word for word in words if word not in stop_words]\n",
    "    \n",
    "    return \" \".join(filtered_words)"
   ]
  },
  {
   "cell_type": "code",
   "execution_count": 5,
   "id": "95e93fff",
   "metadata": {},
   "outputs": [],
   "source": [
    "stop_words = stopwords.words('russian')\n",
    "stop_words.extend(['что', 'это', 'так',\n",
    "                    'вот', 'быть', 'как',\n",
    "                    'в', '—', 'к', 'за', 'из', 'из-за',\n",
    "                    'на', 'ок', 'кстати',\n",
    "                    'который', 'мочь', 'весь',\n",
    "                    'еще', 'также', 'свой',\n",
    "                    'ещё', 'самый', 'ул', 'комментарий',\n",
    "                    'английский', 'язык', 'заявил', 'заявили'])"
   ]
  },
  {
   "cell_type": "markdown",
   "id": "60d4f7b0",
   "metadata": {},
   "source": [
    "Обработаем доступные нам текстовые поля."
   ]
  },
  {
   "cell_type": "code",
   "execution_count": 6,
   "id": "1e3542e3",
   "metadata": {},
   "outputs": [
    {
     "name": "stdout",
     "output_type": "stream",
     "text": [
      "CPU times: total: 28.2 s\n",
      "Wall time: 44.1 s\n",
      "CPU times: total: 25.1 s\n",
      "Wall time: 50.2 s\n",
      "CPU times: total: 6min 39s\n",
      "Wall time: 11min 56s\n"
     ]
    }
   ],
   "source": [
    "df = pd.read_csv('data_for_nlp_clear.csv')\n",
    "\n",
    "%time df['title_clean'] = df.title.apply(text_prep)\n",
    "%time df['subtitle_clean'] = df.subtitle.apply(text_prep)\n",
    "%time df['content_clean'] = df.text.apply(text_prep)"
   ]
  },
  {
   "cell_type": "markdown",
   "id": "f96042b5",
   "metadata": {},
   "source": [
    "Сделаем бэкап данных"
   ]
  },
  {
   "cell_type": "code",
   "execution_count": 7,
   "id": "dc6682d7",
   "metadata": {},
   "outputs": [],
   "source": [
    "df.to_csv('second_part_beckap.csv')"
   ]
  },
  {
   "cell_type": "markdown",
   "id": "4500b240",
   "metadata": {},
   "source": [
    "Посмотрим, насколько разумно работает наша предобработка, оценив качество преобразования текстовых данных."
   ]
  },
  {
   "cell_type": "code",
   "execution_count": 8,
   "id": "1e860af5",
   "metadata": {},
   "outputs": [
    {
     "data": {
      "text/plain": [
       "array([['Белоруссия решила отозвать посла в Великобритании  ',\n",
       "        'белоруссия решить отозвать посол великобритания']], dtype=object)"
      ]
     },
     "execution_count": 8,
     "metadata": {},
     "output_type": "execute_result"
    }
   ],
   "source": [
    "# Заголовок\n",
    "df.sample(1)[['title', 'title_clean']].values"
   ]
  },
  {
   "cell_type": "code",
   "execution_count": 9,
   "id": "7079e5e2",
   "metadata": {},
   "outputs": [
    {
     "data": {
      "text/plain": [
       "array([['Врио главы Херсонской области Сальдо опроверг слухи о подготовке наступления ВСУ',\n",
       "        'врио глава херсонский область сальдо опровергнуть слух подготовка наступление всу']],\n",
       "      dtype=object)"
      ]
     },
     "execution_count": 9,
     "metadata": {},
     "output_type": "execute_result"
    }
   ],
   "source": [
    "# Подзаголовок\n",
    "df.sample(1)[['subtitle', 'subtitle_clean']].values"
   ]
  },
  {
   "cell_type": "code",
   "execution_count": 10,
   "id": "044fc1ee",
   "metadata": {},
   "outputs": [
    {
     "data": {
      "text/plain": [
       "array([['МОСКВА, 20 авг — РИА Новости. При атаке украинского беспилотника получили повреждения крыша, фасад и платформа железнодорожного вокзала Курска. Об этом губернатор Роман Старовойт сообщил в Telegram-канале.«\"Пострадали крыша, фасад, первая платформа. Также в результате взрывной волны есть повреждения в зале ожидания и пешеходном тоннеле\", — написал он.По словам губернатора, в ближайшее время специалисты начнут ремонтные работы. Посадка на поезда сейчас осуществляется через северную и южную стороны без входа в вокзал.Старовойт рассказал также, что в момент взрыва в здании находилось 50 пассажиров. Их оперативно эвакуировали. Минувшей ночью украинский беспилотник атаковал здание железнодорожного вокзала в Курске. Там начался пожар, но его вскоре потушили. Пять человек получили легкие ранения. По информации губернатора, двое из них отказались от врачебной помощи, троих отправили в областную больницу, но после осмотра отпустили домой.Курская область постоянно подвергается обстрелам со стороны Украины, а также атакам дронов. Только 13 августа в Суджанском и Рыльском районах силы ПВО сбили шесть ударных беспилотников. А 18 августа в Рыльском районе средствами РЭБ посадили еще один аппарат. Минобороны раскрыло подробности попытки ВСУ атаковать Москву с помощью БПЛА20 августа, 05:29Поделиться',\n",
       "        'москва авг риа новость атака украинский беспилотник получить повреждение крыша фасад платформа железнодорожный вокзал курск губернатор роман старовойт сообщить пострадать крыша фасад первый платформа результат взрывной волна повреждение зал ожидание пешеходный тоннель написать слово губернатор близкий время специалист начать ремонтный работа посадка поезд осуществляться северный южный сторона вход вокзал старовойт рассказать момент взрыв здание находиться пассажир оперативно эвакуировать минувший ночь украинский беспилотник атаковать здание железнодорожный вокзал курск начаться пожар вскоре потушить пять человек получить легкий ранение информация губернатор двое отказаться врачебный помощь трое отправить областной больница осмотр отпустить домой курский область постоянно подвергаться обстрел сторона украина атака дрон август суджанский рыльский район сила пво сбить шесть ударный беспилотник август рыльский район средство рэб посадить аппарат минобороны раскрыть подробность попытка всу атаковать москва помощь бпл август поделиться']],\n",
       "      dtype=object)"
      ]
     },
     "execution_count": 10,
     "metadata": {},
     "output_type": "execute_result"
    }
   ],
   "source": [
    "# Содержание\n",
    "df.sample(1)[['text', 'content_clean']].values"
   ]
  },
  {
   "cell_type": "markdown",
   "id": "7f3de892",
   "metadata": {},
   "source": [
    "# Word2Vec\n",
    "\n",
    "Давайте теперь применим альтернативный подход к представлению слов - Word2Vec. Этот метод основывается на семантической близости слов (по центральному слову предсказывает контекст или же по контексту предсказывает центральное слово). Построим модель на нашей выборке новостей."
   ]
  },
  {
   "cell_type": "code",
   "execution_count": 11,
   "id": "6761f742",
   "metadata": {},
   "outputs": [],
   "source": [
    "model = Word2Vec(sentences=df.title_clean.str.split(),\n",
    "                 vector_size=200,\n",
    "                 min_count=10,\n",
    "                 window=2,\n",
    "                 seed=RND_STATE)"
   ]
  },
  {
   "cell_type": "code",
   "execution_count": 12,
   "id": "92e92f5e",
   "metadata": {},
   "outputs": [
    {
     "data": {
      "text/plain": [
       "[('лес', 0.9978578090667725),\n",
       " ('отец', 0.9976714849472046),\n",
       " ('выбросить', 0.997373640537262),\n",
       " ('труба', 0.9973010420799255),\n",
       " ('кемерово', 0.9972942471504211),\n",
       " ('авария', 0.9972772598266602),\n",
       " ('красноярск', 0.9970983862876892),\n",
       " ('мигрант', 0.9970702528953552),\n",
       " ('алкоголь', 0.9970579147338867),\n",
       " ('ипотека', 0.9970191717147827)]"
      ]
     },
     "execution_count": 12,
     "metadata": {},
     "output_type": "execute_result"
    }
   ],
   "source": [
    "model.wv.most_similar(positive=['владимир'])"
   ]
  },
  {
   "cell_type": "markdown",
   "id": "9321f8d6",
   "metadata": {},
   "source": [
    "Видим, что все выглядит очень логично и даже увлекательно :)\n",
    "\n",
    "Чтобы построить модель, нам нужно получить вектора для предложения. Это можно сделать двумя способами:\n",
    "- Усреднить вектора слов, входящих в предложение\n",
    "- Взвесить вектора слов, входящих в предложение на основании их tf-idf весов"
   ]
  },
  {
   "cell_type": "code",
   "execution_count": 13,
   "id": "95ea975f",
   "metadata": {},
   "outputs": [],
   "source": [
    "X_train, X_test, y_train, y_test = train_test_split(df.content_clean.str.split(),\n",
    "                                                    df.topic.values,\n",
    "                                                    random_state=RND_STATE)\n",
    "\n",
    "model = Word2Vec(sentences=X_train,\n",
    "                 vector_size=200,\n",
    "                 min_count=10,\n",
    "                 window=2,\n",
    "                 seed=RND_STATE)"
   ]
  },
  {
   "cell_type": "markdown",
   "id": "e3c4ac38",
   "metadata": {},
   "source": [
    "Для того, чтобы по-прежнему использовать `Pipeline`, оформим описанные выше подходы в классы."
   ]
  },
  {
   "cell_type": "code",
   "execution_count": 14,
   "id": "2bd08793",
   "metadata": {},
   "outputs": [],
   "source": [
    "class MeanEmbeddingVectorizer(object):\n",
    "    \"\"\"\n",
    "    Get mean of vectors\n",
    "    \n",
    "    \"\"\"\n",
    "    \n",
    "    def __init__(self, model):\n",
    "        self.word2vec = model.wv\n",
    "        self.dim = model.vector_size\n",
    "        \n",
    "    def fit(self, X, y):\n",
    "        return self\n",
    "    \n",
    "    def transform(self, X):\n",
    "        return np.array([\n",
    "            np.mean([self.word2vec.get_vector(w)\n",
    "                for w in words if w in self.word2vec] or\n",
    "                [np.zeros(self.dim)], axis=0)\n",
    "            for words in X])\n",
    "        "
   ]
  },
  {
   "cell_type": "code",
   "execution_count": 21,
   "id": "73c834e0",
   "metadata": {},
   "outputs": [
    {
     "name": "stdout",
     "output_type": "stream",
     "text": [
      "                precision    recall  f1-score   support\n",
      "\n",
      "defense_safety       0.84      0.82      0.83      1590\n",
      "       economy       0.88      0.91      0.90      1633\n",
      "     incidents       0.89      0.92      0.91      1518\n",
      "      politics       0.80      0.78      0.79      1543\n",
      "       society       0.81      0.81      0.81      1274\n",
      "         world       0.85      0.81      0.83      1506\n",
      "\n",
      "      accuracy                           0.85      9064\n",
      "     macro avg       0.84      0.84      0.84      9064\n",
      "  weighted avg       0.84      0.85      0.84      9064\n",
      "\n"
     ]
    }
   ],
   "source": [
    "pipe = Pipeline([('w2v', MeanEmbeddingVectorizer(model)),\n",
    "                 ('clf', LogisticRegression(random_state=RND_STATE,\n",
    "                                            max_iter=1000))])\n",
    "\n",
    "pipe.fit(X_train, y_train)\n",
    "\n",
    "print(classification_report(y_test, pipe.predict(X_test)))"
   ]
  },
  {
   "cell_type": "code",
   "execution_count": 22,
   "id": "a13a0035",
   "metadata": {},
   "outputs": [
    {
     "data": {
      "image/png": "[encoded data removed]",
      "text/plain": [
       "<Figure size 1600x400 with 1 Axes>"
      ]
     },
     "metadata": {},
     "output_type": "display_data"
    }
   ],
   "source": [
    "from sklearn.metrics import confusion_matrix, ConfusionMatrixDisplay\n",
    "\n",
    "y_pred = pipe.predict(X_test)\n",
    "\n",
    "cm = confusion_matrix(y_test, y_pred, labels=pipe.classes_)\n",
    "\n",
    "cm_df = pd.DataFrame(data=cm, columns=pipe.classes_, index=pipe.classes_)\n",
    "\n",
    "plt.figure(figsize=(16, 4))\n",
    "\n",
    "sns.heatmap(cm_df, square=False, annot=True, cmap='Blues', fmt='d', cbar=False);"
   ]
  },
  {
   "cell_type": "markdown",
   "id": "98065755",
   "metadata": {},
   "source": [
    "Как можно заметить, модель довольно неплохо определяет топик новости. Ошибается модель больше всего в топиках `politics` и `world`, однако, иногда и обычному человеку будет сложно их отделить друг от друга в силу общности топика `world`.\n",
    "\n",
    "Лучше модель справляется с топиками `economy` и `incidents`"
   ]
  }
 ],
 "metadata": {
  "kernelspec": {
   "display_name": "Python 3 (ipykernel)",
   "language": "python",
   "name": "python3"
  },
  "language_info": {
   "codemirror_mode": {
    "name": "ipython",
    "version": 3
   },
   "file_extension": ".py",
   "mimetype": "text/x-python",
   "name": "python",
   "nbconvert_exporter": "python",
   "pygments_lexer": "ipython3",
   "version": "3.11.1"
  },
  "toc": {
   "base_numbering": 1,
   "nav_menu": {},
   "number_sections": true,
   "sideBar": true,
   "skip_h1_title": false,
   "title_cell": "Table of Contents",
   "title_sidebar": "Contents",
   "toc_cell": false,
   "toc_position": {},
   "toc_section_display": true,
   "toc_window_display": false
  }
 },
 "nbformat": 4,
 "nbformat_minor": 5
}
